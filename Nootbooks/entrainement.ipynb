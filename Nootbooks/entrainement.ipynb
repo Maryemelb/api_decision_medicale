{
 "cells": [
  {
   "cell_type": "markdown",
   "metadata": {},
   "source": [
    "**data prepation**"
   ]
  },
  {
   "cell_type": "code",
   "execution_count": 1,
   "metadata": {},
   "outputs": [],
   "source": [
    "import pandas as pd\n",
    "from sklearn.model_selection import train_test_split\n",
    "from sklearn.discriminant_analysis import StandardScaler\n",
    "from sklearn.feature_selection import SelectKBest, f_classif\n",
    "from sklearn.model_selection import GridSearchCV, train_test_split\n",
    "from sklearn.pipeline import Pipeline\n",
    "from sklearn.linear_model import LogisticRegression\n",
    "from sklearn.svm import SVR\n",
    "from sklearn.compose import ColumnTransformer\n",
    "\n",
    "data= pd.read_csv('../data/dataset.csv')\n",
    "data['status']= data['status'].map({'negative':0, 'positive':1})\n",
    "\n",
    "X= data.drop(columns='status')\n",
    "y= data['status']\n",
    "#split data\n",
    "X_train, X_test, y_train, y_test= train_test_split( X,y, test_size=0.3, random_state=42)\n"
   ]
  },
  {
   "cell_type": "markdown",
   "metadata": {},
   "source": [
    "**Normalization**"
   ]
  },
  {
   "cell_type": "code",
   "execution_count": 2,
   "metadata": {},
   "outputs": [
    {
     "data": {
      "text/plain": [
       "array([[ 5.72357956e-01,  7.18395402e-01,  1.25721470e+00, ...,\n",
       "        -2.90961900e-01, -3.02342376e-01, -2.39032215e-01],\n",
       "       [-2.57963993e+00,  7.18395402e-01, -1.11709835e+00, ...,\n",
       "        -1.84072428e-01,  6.05700979e-01,  3.03491001e-01],\n",
       "       [-8.73625310e-02,  7.18395402e-01,  1.25721470e+00, ...,\n",
       "        -2.86859072e-01, -3.10140458e-01, -2.77783874e-01],\n",
       "       ...,\n",
       "       [-8.20385295e-01,  7.18395402e-01,  1.56357767e+00, ...,\n",
       "        -3.03054447e-01,  3.36968791e+00,  1.29108539e-01],\n",
       "       [-1.60664807e-01,  7.18395402e-01, -3.89486287e-01, ...,\n",
       "        -2.04586569e-01, -1.68298262e-03, -3.94038849e-01],\n",
       "       [-3.80571637e-01,  7.18395402e-01,  1.14232858e+00, ...,\n",
       "         7.69079350e-01,  1.22088302e+00,  3.03491001e-01]],\n",
       "      shape=(1319, 8))"
      ]
     },
     "execution_count": 2,
     "metadata": {},
     "output_type": "execute_result"
    }
   ],
   "source": [
    "scaller= StandardScaler()\n",
    "scaller.fit_transform(X)"
   ]
  },
  {
   "cell_type": "markdown",
   "metadata": {},
   "source": [
    "**Select best features**"
   ]
  },
  {
   "cell_type": "code",
   "execution_count": 3,
   "metadata": {},
   "outputs": [
    {
     "name": "stdout",
     "output_type": "stream",
     "text": [
      "Index(['age', 'gender', 'pressurehight', 'glucose', 'kcm', 'troponin'], dtype='object')\n"
     ]
    }
   ],
   "source": [
    "best_features= SelectKBest(score_func=f_classif, k=5)\n",
    "X_train_selected = best_features.fit_transform(X_train, y_train)\n",
    "X_test_selected= best_features.transform(X_test)\n",
    "best_columns= X_train.columns[best_features.get_support()]\n",
    "print(best_columns)"
   ]
  },
  {
   "cell_type": "markdown",
   "metadata": {},
   "source": [
    "**Logistic Regression**"
   ]
  },
  {
   "cell_type": "code",
   "execution_count": 8,
   "metadata": {},
   "outputs": [
    {
     "name": "stdout",
     "output_type": "stream",
     "text": [
      "MAE:  0.9772727272727273\n",
      "recall:  0.9793388429752066\n",
      "f1:  0.9813664596273292\n"
     ]
    }
   ],
   "source": [
    "from sklearn import metrics\n",
    "from sklearn.ensemble import RandomForestClassifier\n",
    "rf= RandomForestClassifier()\n",
    "rf.fit(X_train, y_train)\n",
    "y_pred= rf.predict(X_test)\n",
    "print('MAE: ', metrics.accuracy_score(y_pred, y_test))\n",
    "print('recall: ',metrics.recall_score(y_pred, y_test))\n",
    "print('f1: ',metrics.f1_score(y_pred, y_test))"
   ]
  },
  {
   "cell_type": "code",
   "execution_count": 9,
   "metadata": {},
   "outputs": [
    {
     "name": "stdout",
     "output_type": "stream",
     "text": [
      "Accuracy:  0.5858585858585859\n",
      "recall:  0.6066481994459834\n",
      "f1:  0.7275747508305648\n"
     ]
    },
    {
     "name": "stderr",
     "output_type": "stream",
     "text": [
      "c:\\Users\\hp\\Documents\\projects\\simplon_projects\\api_decision_medicale\\venv\\Lib\\site-packages\\sklearn\\svm\\_base.py:305: ConvergenceWarning: Solver terminated early (max_iter=100).  Consider pre-processing your data with StandardScaler or MinMaxScaler.\n",
      "  warnings.warn(\n"
     ]
    }
   ],
   "source": [
    "from sklearn import metrics\n",
    "from sklearn.svm import SVC\n",
    "svc= SVC(max_iter=100)\n",
    "svc.fit(X_train, y_train)\n",
    "y_pred= svc.predict(X_test)\n",
    "print('Accuracy: ', metrics.accuracy_score(y_pred, y_test))\n",
    "print('recall: ',metrics.recall_score(y_pred, y_test))\n",
    "print('f1: ',metrics.f1_score(y_pred, y_test))"
   ]
  }
 ],
 "metadata": {
  "kernelspec": {
   "display_name": "venv",
   "language": "python",
   "name": "python3"
  },
  "language_info": {
   "codemirror_mode": {
    "name": "ipython",
    "version": 3
   },
   "file_extension": ".py",
   "mimetype": "text/x-python",
   "name": "python",
   "nbconvert_exporter": "python",
   "pygments_lexer": "ipython3",
   "version": "3.13.7"
  }
 },
 "nbformat": 4,
 "nbformat_minor": 2
}
